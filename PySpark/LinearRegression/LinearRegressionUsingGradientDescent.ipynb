{
 "cells": [
  {
   "cell_type": "markdown",
   "id": "b1901dba",
   "metadata": {},
   "source": [
    "<b> Batch gradient descent to find the optimal parameters for Simple Linear Regression model. </b>"
   ]
  },
  {
   "cell_type": "code",
   "execution_count": 1,
   "id": "ac3f1b9b",
   "metadata": {},
   "outputs": [],
   "source": [
    "from __future__ import print_function\n",
    "import sys\n",
    "from pyspark import SparkContext\n",
    "import numpy as np"
   ]
  },
  {
   "cell_type": "code",
   "execution_count": 2,
   "id": "524c8a64",
   "metadata": {},
   "outputs": [],
   "source": [
    "sc = SparkContext()\n",
    "lines = sc.textFile(\"taxi-data-sorted-small.csv.bz2\")\n",
    "taxilines = lines.map(lambda x: x.split(','))"
   ]
  },
  {
   "cell_type": "code",
   "execution_count": 3,
   "id": "a8c729c5",
   "metadata": {},
   "outputs": [],
   "source": [
    "def correctRows(p):\n",
    "    '''This function checks if the line has 17 values and check if trip distance (5) and amount (11) have the\n",
    "    following conditions met'''\n",
    "    if (len(p) == 17):\n",
    "        if (isfloat(p[5]) and isfloat(p[11])):\n",
    "            if (float(p[5]) > 1 and float(p[5]) < 1000):\n",
    "                if (float(p[11]) > 1 and float(p[11]) < 600):\n",
    "                    return p\n",
    "\n",
    "\n",
    "def isfloat(value):\n",
    "    '''This function checks if the value is float or not'''\n",
    "    try:\n",
    "        float(value)\n",
    "        return True\n",
    "    except:\n",
    "        return False\n"
   ]
  },
  {
   "cell_type": "code",
   "execution_count": 5,
   "id": "15f66b50",
   "metadata": {},
   "outputs": [
    {
     "data": {
      "text/plain": [
       "[(6.5, 1.71), (6.0, 1.21)]"
      ]
     },
     "execution_count": 5,
     "metadata": {},
     "output_type": "execute_result"
    }
   ],
   "source": [
    "# applying the function to the rows of data\n",
    "taxilinesCorrected = taxilines.filter(correctRows)\n",
    "myRDD = taxilinesCorrected.map(lambda x: (float(x[11]), float(x[5])))\n",
    "\n",
    "myRDD.cache()\n",
    "myRDD.take(2)"
   ]
  },
  {
   "cell_type": "code",
   "execution_count": 6,
   "id": "f74b814e",
   "metadata": {},
   "outputs": [],
   "source": [
    "#initialization parameters\n",
    "size = myRDD.count()\n",
    "num_iteration = 100\n",
    "beta = 0.1\n",
    "learningRate = 0.01\n",
    "precision = 0.01\n",
    "cost_all = []"
   ]
  },
  {
   "cell_type": "code",
   "execution_count": 7,
   "id": "69671a2d",
   "metadata": {},
   "outputs": [
    {
     "name": "stdout",
     "output_type": "stream",
     "text": [
      "Iteration:  0  Beta:  0.1  Cost:  422104568.70971507\n",
      "Iteration:  1  Beta:  0.9221545878303155  Cost:  241878776.08963937\n",
      "Iteration:  2  Beta:  1.529310957707878  Cost:  143588379.72841108\n",
      "Iteration:  3  Beta:  1.9776923970862224  Cost:  89983388.58699211\n",
      "Iteration:  4  Beta:  2.3088194759631024  Cost:  60748639.50006555\n",
      "Iteration:  5  Beta:  2.553354893213075  Cost:  44804778.00552855\n",
      "Iteration:  6  Beta:  2.733942873188744  Cost:  36109416.24268228\n",
      "Iteration:  7  Beta:  2.8673060435565945  Cost:  31367195.15573456\n",
      "Iteration:  8  Beta:  2.965793967353989  Cost:  28780912.784648597\n",
      "Iteration:  9  Beta:  3.0385267248849193  Cost:  27370422.556467988\n",
      "Iteration:  10  Beta:  3.0922394422830175  Cost:  26601178.367962636\n",
      "Iteration:  11  Beta:  3.131905970931534  Cost:  26181652.865604978\n",
      "Iteration:  12  Beta:  3.1611994710790454  Cost:  25952854.715732507\n",
      "Iteration:  13  Beta:  3.1828325501542394  Cost:  25828074.236144133\n",
      "Iteration:  14  Beta:  3.1988084529284775  Cost:  25760022.251910165\n",
      "Iteration:  15  Beta:  3.2106065639863037  Cost:  25722908.493630156\n",
      "Iteration:  16  Beta:  3.219319400218461  Cost:  25702667.62823009\n",
      "Iteration:  17  Beta:  3.225753778979289  Cost:  25691628.793799892\n",
      "Iteration:  18  Beta:  3.2305055301811554  Cost:  25685608.50450112\n",
      "Iteration:  19  Beta:  3.234014670740599  Cost:  25682325.19741372\n",
      "Iteration:  20  Beta:  3.236606150585141  Cost:  25680534.568284184\n",
      "Iteration:  21  Beta:  3.2385199433417755  Cost:  25679558.00635536\n",
      "Iteration:  22  Beta:  3.239933268134967  Cost:  25679025.41522689\n",
      "Iteration:  23  Beta:  3.240977000254925  Cost:  25678734.95406413\n",
      "Iteration:  24  Beta:  3.241747790340465  Cost:  25678576.54420492\n",
      "Iteration:  25  Beta:  3.2423170143248603  Cost:  25678490.151642412\n",
      "Iteration:  26  Beta:  3.242737382918711  Cost:  25678443.035411354\n",
      "Iteration:  27  Beta:  3.2430478226744808  Cost:  25678417.339470826\n",
      "Iteration:  28  Beta:  3.243277080624224  Cost:  25678403.325572908\n",
      "Iteration:  29  Beta:  3.243446386283519  Cost:  25678395.682760704\n",
      "Iteration:  30  Beta:  3.2435714175258377  Cost:  25678391.51458256\n",
      "Iteration:  31  Beta:  3.243663752369347  Cost:  25678389.24135659\n",
      "Iteration:  32  Beta:  3.243731941112959  Cost:  25678388.001601648\n",
      "Iteration:  33  Beta:  3.24378229810257  Cost:  25678387.325480763\n",
      "Iteration:  34  Beta:  3.2438194864458114  Cost:  25678386.956735257\n",
      "Iteration:  35  Beta:  3.243846949820485  Cost:  25678386.755634286\n",
      "Iteration:  36  Beta:  3.2438672313625685  Cost:  25678386.645958897\n",
      "Iteration:  37  Beta:  3.243882209163151  Cost:  25678386.5861428\n",
      "Iteration:  38  Beta:  3.243893270181564  Cost:  25678386.55352129\n",
      "Iteration:  39  Beta:  3.2439014386791745  Cost:  25678386.53572476\n",
      "Iteration:  40  Beta:  3.2439074710670313  Cost:  25678386.526034564\n",
      "Stopped at iteration:  40\n"
     ]
    }
   ],
   "source": [
    "#main iterative part of gradient descent algorithm\n",
    "for i in range(num_iteration):\n",
    "\n",
    "    #code for gradient descent\n",
    "    gradientCost = myRDD.map(lambda x: (x[1], (x[0] - np.dot(x[1], beta)))) \\\n",
    "        .map(lambda x: (x[0] * x[1], x[1] ** 2)).reduce(lambda x, y: (x[0] + y[0], x[1] + y[1]))\n",
    "\n",
    "    cost = gradientCost[1]\n",
    "\n",
    "    gradient = (-1 / float(size)) * gradientCost[0]\n",
    "\n",
    "    print(\"Iteration: \", i, \" Beta: \", beta, \" Cost: \", cost)\n",
    "    beta = beta - learningRate * gradient\n",
    "\n",
    "    #containing all costs for all iterations\n",
    "    cost_all.append(cost)\n",
    "\n",
    "    if i != 0:\n",
    "\n",
    "        #finding the the current and previous cost\n",
    "        cost_current = cost_all[i]\n",
    "        cost_previous = cost_all[i-1]\n",
    "\n",
    "        #stopping criteria for precision\n",
    "        if np.abs(cost_current - cost_previous) < precision:\n",
    "            print('Stopped at iteration: ', i)\n",
    "            break\n",
    "\n",
    "sc.stop()"
   ]
  },
  {
   "cell_type": "code",
   "execution_count": 10,
   "id": "320fdb94",
   "metadata": {},
   "outputs": [
    {
     "data": {
      "image/png": "[encoded data removed]",
      "text/plain": [
       "<Figure size 432x288 with 1 Axes>"
      ]
     },
     "metadata": {
      "needs_background": "light"
     },
     "output_type": "display_data"
    }
   ],
   "source": [
    "import matplotlib.pyplot as plt\n",
    "\n",
    "y = cost_all\n",
    "x = range(len(y))\n",
    "\n",
    "plt.title(\"Plot Between Cost and Iterations\")\n",
    "plt.xlabel(\"Iterations\")\n",
    "plt.ylabel(\"Cost\")\n",
    "plt.plot(x, y, color =\"red\")\n",
    "plt.show()"
   ]
  },
  {
   "cell_type": "code",
   "execution_count": null,
   "id": "be00ed96",
   "metadata": {},
   "outputs": [],
   "source": []
  }
 ],
 "metadata": {
  "kernelspec": {
   "display_name": "Python 3",
   "language": "python",
   "name": "python3"
  },
  "language_info": {
   "codemirror_mode": {
    "name": "ipython",
    "version": 3
   },
   "file_extension": ".py",
   "mimetype": "text/x-python",
   "name": "python",
   "nbconvert_exporter": "python",
   "pygments_lexer": "ipython3",
   "version": "3.8.8"
  }
 },
 "nbformat": 4,
 "nbformat_minor": 5
}
